{
 "cells": [
  {
   "cell_type": "markdown",
   "metadata": {
    "colab_type": "text",
    "id": "Mf2U7WEsmN3j"
   },
   "source": [
    "# <center>Hands On Collaborative Filtering Recommender System<center>"
   ]
  },
  {
   "cell_type": "markdown",
   "metadata": {},
   "source": [
    "Notebook ini berisi materi praktikum untuk membuat sistem rekomendasi dengan prinsip *collaborative filtering* menggunakan library surprise pada bahasa pemrograman python. Data yang digunakan ialah *anime dataset* yang terdiri dari dua buah file, yaitu:<br>\n",
    "\n",
    "1. *anime_info*: berisi informasi mengenai list id anime beserta judulnya.\n",
    "2. *anime_ratings*: berisi informasi mengenai preferensi sebanyak 4714 user terhadap 7390 anime."
   ]
  },
  {
   "cell_type": "markdown",
   "metadata": {
    "colab_type": "text",
    "id": "QDjfdpNhJ2mv"
   },
   "source": [
    "# Data Science Process"
   ]
  },
  {
   "cell_type": "markdown",
   "metadata": {
    "colab_type": "text",
    "id": "y9eYjLZtJ07D"
   },
   "source": [
    "<center><img src=\"https://raw.githubusercontent.com/KaysiKaysi/OpenFile/master/Data%20Science%20Process.png\" alt=\"Drawing\" width=800></center>"
   ]
  },
  {
   "cell_type": "markdown",
   "metadata": {
    "colab_type": "text",
    "id": "Gp4GGFcXnClr"
   },
   "source": [
    "# A. Persiapan"
   ]
  },
  {
   "cell_type": "markdown",
   "metadata": {
    "colab_type": "text",
    "id": "nw9qiNukyGdS"
   },
   "source": [
    "Install library scikit-surprise"
   ]
  },
  {
   "cell_type": "code",
   "execution_count": 0,
   "metadata": {
    "colab": {},
    "colab_type": "code",
    "id": "nc2TcEJsqwsZ"
   },
   "outputs": [],
   "source": [
    "!pip install -q scikit-surprise"
   ]
  },
  {
   "cell_type": "markdown",
   "metadata": {
    "colab_type": "text",
    "id": "HSnu_mhjnCc7"
   },
   "source": [
    "## A1. Import library"
   ]
  },
  {
   "cell_type": "code",
   "execution_count": 1,
   "metadata": {
    "colab": {},
    "colab_type": "code",
    "id": "3AUFeHZNqzuf"
   },
   "outputs": [],
   "source": [
    "import pandas as pd\n",
    "import seaborn as sns\n",
    "import numpy as np\n",
    "\n",
    "from surprise import KNNBasic, Dataset, accuracy, Reader\n",
    "from surprise.model_selection import train_test_split"
   ]
  },
  {
   "cell_type": "markdown",
   "metadata": {
    "colab_type": "text",
    "id": "LKX1J7iCnely"
   },
   "source": [
    "## A2. Load data"
   ]
  },
  {
   "cell_type": "markdown",
   "metadata": {},
   "source": [
    "Load data informasi anime"
   ]
  },
  {
   "cell_type": "code",
   "execution_count": 24,
   "metadata": {
    "colab": {
     "base_uri": "https://localhost:8080/",
     "height": 202
    },
    "colab_type": "code",
    "id": "amXilUZZugfI",
    "outputId": "5fc48c7a-5a4c-46aa-cadd-df441f892e65"
   },
   "outputs": [
    {
     "data": {
      "text/html": [
       "<div>\n",
       "<style scoped>\n",
       "    .dataframe tbody tr th:only-of-type {\n",
       "        vertical-align: middle;\n",
       "    }\n",
       "\n",
       "    .dataframe tbody tr th {\n",
       "        vertical-align: top;\n",
       "    }\n",
       "\n",
       "    .dataframe thead th {\n",
       "        text-align: right;\n",
       "    }\n",
       "</style>\n",
       "<table border=\"1\" class=\"dataframe\">\n",
       "  <thead>\n",
       "    <tr style=\"text-align: right;\">\n",
       "      <th></th>\n",
       "      <th>anime_ids</th>\n",
       "      <th>name</th>\n",
       "    </tr>\n",
       "  </thead>\n",
       "  <tbody>\n",
       "    <tr>\n",
       "      <th>0</th>\n",
       "      <td>1723</td>\n",
       "      <td>Kimi no Na wa.</td>\n",
       "    </tr>\n",
       "    <tr>\n",
       "      <th>1</th>\n",
       "      <td>82</td>\n",
       "      <td>Fullmetal Alchemist: Brotherhood</td>\n",
       "    </tr>\n",
       "    <tr>\n",
       "      <th>2</th>\n",
       "      <td>296</td>\n",
       "      <td>Gintama°</td>\n",
       "    </tr>\n",
       "    <tr>\n",
       "      <th>3</th>\n",
       "      <td>127</td>\n",
       "      <td>Steins;Gate</td>\n",
       "    </tr>\n",
       "    <tr>\n",
       "      <th>4</th>\n",
       "      <td>137</td>\n",
       "      <td>Gintama&amp;#039;</td>\n",
       "    </tr>\n",
       "    <tr>\n",
       "      <th>...</th>\n",
       "      <td>...</td>\n",
       "      <td>...</td>\n",
       "    </tr>\n",
       "    <tr>\n",
       "      <th>7385</th>\n",
       "      <td>6975</td>\n",
       "      <td>Mini Skirt Gakuen</td>\n",
       "    </tr>\n",
       "    <tr>\n",
       "      <th>7386</th>\n",
       "      <td>7137</td>\n",
       "      <td>Offside Girl</td>\n",
       "    </tr>\n",
       "    <tr>\n",
       "      <th>7387</th>\n",
       "      <td>7071</td>\n",
       "      <td>Joshidai: Ecchi Soudanshitsu</td>\n",
       "    </tr>\n",
       "    <tr>\n",
       "      <th>7388</th>\n",
       "      <td>5467</td>\n",
       "      <td>Tsui no Sora</td>\n",
       "    </tr>\n",
       "    <tr>\n",
       "      <th>7389</th>\n",
       "      <td>7388</td>\n",
       "      <td>Hokenshitsu de Aimashou</td>\n",
       "    </tr>\n",
       "  </tbody>\n",
       "</table>\n",
       "<p>7390 rows × 2 columns</p>\n",
       "</div>"
      ],
      "text/plain": [
       "      anime_ids                              name\n",
       "0          1723                    Kimi no Na wa.\n",
       "1            82  Fullmetal Alchemist: Brotherhood\n",
       "2           296                          Gintama°\n",
       "3           127                       Steins;Gate\n",
       "4           137                     Gintama&#039;\n",
       "...         ...                               ...\n",
       "7385       6975                 Mini Skirt Gakuen\n",
       "7386       7137                      Offside Girl\n",
       "7387       7071      Joshidai: Ecchi Soudanshitsu\n",
       "7388       5467                      Tsui no Sora\n",
       "7389       7388           Hokenshitsu de Aimashou\n",
       "\n",
       "[7390 rows x 2 columns]"
      ]
     },
     "execution_count": 24,
     "metadata": {},
     "output_type": "execute_result"
    }
   ],
   "source": [
    "anime_info_file = 'data/anime_info.csv'\n",
    "anime_info = pd.read_csv(anime_info_file)\n",
    "anime_info  "
   ]
  },
  {
   "cell_type": "markdown",
   "metadata": {},
   "source": [
    "Load data rating anime"
   ]
  },
  {
   "cell_type": "code",
   "execution_count": 25,
   "metadata": {
    "colab": {
     "base_uri": "https://localhost:8080/",
     "height": 35
    },
    "colab_type": "code",
    "id": "XjoIJOrcpmQg",
    "outputId": "0b1a7e2b-c4af-4721-80f1-e67c1b43a977"
   },
   "outputs": [
    {
     "data": {
      "text/html": [
       "<div>\n",
       "<style scoped>\n",
       "    .dataframe tbody tr th:only-of-type {\n",
       "        vertical-align: middle;\n",
       "    }\n",
       "\n",
       "    .dataframe tbody tr th {\n",
       "        vertical-align: top;\n",
       "    }\n",
       "\n",
       "    .dataframe thead th {\n",
       "        text-align: right;\n",
       "    }\n",
       "</style>\n",
       "<table border=\"1\" class=\"dataframe\">\n",
       "  <thead>\n",
       "    <tr style=\"text-align: right;\">\n",
       "      <th></th>\n",
       "      <th>User_ID</th>\n",
       "      <th>Anime_ID</th>\n",
       "      <th>Feedback</th>\n",
       "    </tr>\n",
       "  </thead>\n",
       "  <tbody>\n",
       "    <tr>\n",
       "      <th>0</th>\n",
       "      <td>1</td>\n",
       "      <td>1</td>\n",
       "      <td>8</td>\n",
       "    </tr>\n",
       "    <tr>\n",
       "      <th>1</th>\n",
       "      <td>1</td>\n",
       "      <td>3</td>\n",
       "      <td>5</td>\n",
       "    </tr>\n",
       "    <tr>\n",
       "      <th>2</th>\n",
       "      <td>1</td>\n",
       "      <td>5</td>\n",
       "      <td>9</td>\n",
       "    </tr>\n",
       "    <tr>\n",
       "      <th>3</th>\n",
       "      <td>1</td>\n",
       "      <td>6</td>\n",
       "      <td>9</td>\n",
       "    </tr>\n",
       "    <tr>\n",
       "      <th>4</th>\n",
       "      <td>1</td>\n",
       "      <td>7</td>\n",
       "      <td>8</td>\n",
       "    </tr>\n",
       "    <tr>\n",
       "      <th>...</th>\n",
       "      <td>...</td>\n",
       "      <td>...</td>\n",
       "      <td>...</td>\n",
       "    </tr>\n",
       "    <tr>\n",
       "      <th>419938</th>\n",
       "      <td>4999</td>\n",
       "      <td>49</td>\n",
       "      <td>9</td>\n",
       "    </tr>\n",
       "    <tr>\n",
       "      <th>419939</th>\n",
       "      <td>4999</td>\n",
       "      <td>670</td>\n",
       "      <td>9</td>\n",
       "    </tr>\n",
       "    <tr>\n",
       "      <th>419940</th>\n",
       "      <td>4999</td>\n",
       "      <td>62</td>\n",
       "      <td>9</td>\n",
       "    </tr>\n",
       "    <tr>\n",
       "      <th>419941</th>\n",
       "      <td>4999</td>\n",
       "      <td>770</td>\n",
       "      <td>9</td>\n",
       "    </tr>\n",
       "    <tr>\n",
       "      <th>419942</th>\n",
       "      <td>5000</td>\n",
       "      <td>19</td>\n",
       "      <td>10</td>\n",
       "    </tr>\n",
       "  </tbody>\n",
       "</table>\n",
       "<p>419943 rows × 3 columns</p>\n",
       "</div>"
      ],
      "text/plain": [
       "        User_ID  Anime_ID  Feedback\n",
       "0             1         1         8\n",
       "1             1         3         5\n",
       "2             1         5         9\n",
       "3             1         6         9\n",
       "4             1         7         8\n",
       "...         ...       ...       ...\n",
       "419938     4999        49         9\n",
       "419939     4999       670         9\n",
       "419940     4999        62         9\n",
       "419941     4999       770         9\n",
       "419942     5000        19        10\n",
       "\n",
       "[419943 rows x 3 columns]"
      ]
     },
     "execution_count": 25,
     "metadata": {},
     "output_type": "execute_result"
    }
   ],
   "source": [
    "anime_ratings_file = 'data/anime_ratings.csv'\n",
    "anime_ratings = pd.read_csv(anime_ratings_file)\n",
    "anime_ratings  "
   ]
  },
  {
   "cell_type": "markdown",
   "metadata": {},
   "source": [
    "Melihat jumlah unique user pada *anime_ratings*."
   ]
  },
  {
   "cell_type": "code",
   "execution_count": 61,
   "metadata": {},
   "outputs": [
    {
     "data": {
      "text/plain": [
       "4714"
      ]
     },
     "execution_count": 61,
     "metadata": {},
     "output_type": "execute_result"
    }
   ],
   "source": [
    "len(np.unique(anime_ratings['User_ID'].values))"
   ]
  },
  {
   "cell_type": "markdown",
   "metadata": {},
   "source": [
    "Melihat jumlah unique anime pada *anime_ratings*."
   ]
  },
  {
   "cell_type": "code",
   "execution_count": 64,
   "metadata": {},
   "outputs": [
    {
     "data": {
      "text/plain": [
       "7157"
      ]
     },
     "execution_count": 64,
     "metadata": {},
     "output_type": "execute_result"
    }
   ],
   "source": [
    "len(np.unique(anime_ratings['Anime_ID'].values))"
   ]
  },
  {
   "cell_type": "markdown",
   "metadata": {},
   "source": [
    "Ket: Tiap user memberikan rating dengan skala 1-10."
   ]
  },
  {
   "cell_type": "markdown",
   "metadata": {
    "colab_type": "text",
    "id": "rce0L84dnnes"
   },
   "source": [
    "# B. Explorasi Data"
   ]
  },
  {
   "cell_type": "markdown",
   "metadata": {
    "colab_type": "text",
    "id": "y4_QALf1oAjC"
   },
   "source": [
    "## B1. Cek tipe data pada masing-masing kolom dataframe"
   ]
  },
  {
   "cell_type": "markdown",
   "metadata": {},
   "source": [
    "Cek tipe data pada dataframe *anime_info*"
   ]
  },
  {
   "cell_type": "code",
   "execution_count": 6,
   "metadata": {},
   "outputs": [
    {
     "name": "stdout",
     "output_type": "stream",
     "text": [
      "anime_ids :  int64 \n",
      "\n",
      "name :  object \n",
      "\n"
     ]
    }
   ],
   "source": [
    "for column in anime_info.columns:\n",
    "    print(column, ': ', anime_info[column].dtype, '\\n')"
   ]
  },
  {
   "cell_type": "markdown",
   "metadata": {},
   "source": [
    "Cek tipe data pada dataframe *anime_ratings*"
   ]
  },
  {
   "cell_type": "code",
   "execution_count": 9,
   "metadata": {
    "colab": {
     "base_uri": "https://localhost:8080/",
     "height": 161
    },
    "colab_type": "code",
    "id": "AIE1nP7XoT4M",
    "outputId": "5b7c907a-aacd-4ab6-d3fd-74be7ac650ab"
   },
   "outputs": [
    {
     "name": "stdout",
     "output_type": "stream",
     "text": [
      "User_ID :  int64 \n",
      "\n",
      "Anime_ID :  int64 \n",
      "\n",
      "Feedback :  int64 \n",
      "\n"
     ]
    }
   ],
   "source": [
    "for column in anime_ratings.columns:\n",
    "    print(column, ': ', anime_ratings[column].dtype, '\\n')"
   ]
  },
  {
   "cell_type": "markdown",
   "metadata": {
    "colab_type": "text",
    "id": "wHfP2mQwoxIs"
   },
   "source": [
    "Tipe data sudah sesuai"
   ]
  },
  {
   "cell_type": "markdown",
   "metadata": {
    "colab_type": "text",
    "id": "TAS4Kk-0o0aN"
   },
   "source": [
    "## B2. Cek *missing value*"
   ]
  },
  {
   "cell_type": "markdown",
   "metadata": {},
   "source": [
    "Cek missing value pada dataframe *anime_info*"
   ]
  },
  {
   "cell_type": "code",
   "execution_count": 10,
   "metadata": {
    "colab": {
     "base_uri": "https://localhost:8080/",
     "height": 305
    },
    "colab_type": "code",
    "id": "lO8BpM30o86Z",
    "outputId": "7711cd0e-82b0-4f2a-9844-a1f3b0e2b2d3"
   },
   "outputs": [
    {
     "name": "stdout",
     "output_type": "stream",
     "text": [
      "anime_ids    0\n",
      "name         0\n",
      "dtype: int64\n"
     ]
    }
   ],
   "source": [
    "print(anime_info.isnull().sum())"
   ]
  },
  {
   "cell_type": "markdown",
   "metadata": {},
   "source": [
    "Cek missing value pada dataframe *anime_ratings*"
   ]
  },
  {
   "cell_type": "code",
   "execution_count": 12,
   "metadata": {},
   "outputs": [
    {
     "name": "stdout",
     "output_type": "stream",
     "text": [
      "User_ID     0\n",
      "Anime_ID    0\n",
      "Feedback    0\n",
      "dtype: int64\n"
     ]
    }
   ],
   "source": [
    "print(anime_ratings.isnull().sum())"
   ]
  },
  {
   "cell_type": "markdown",
   "metadata": {
    "colab_type": "text",
    "id": "kemwMsI3p3OQ"
   },
   "source": [
    "Tidak terdapat *missing value*."
   ]
  },
  {
   "cell_type": "markdown",
   "metadata": {
    "colab_type": "text",
    "id": "9IEu-FXblWCp"
   },
   "source": [
    "# C. Membuat Model prediksi rating anime."
   ]
  },
  {
   "cell_type": "markdown",
   "metadata": {},
   "source": [
    "Membuat model prediksi rating dengan menggunakan metrik kesamaan kosinus dan kesamaan user."
   ]
  },
  {
   "cell_type": "code",
   "execution_count": 49,
   "metadata": {
    "colab": {},
    "colab_type": "code",
    "id": "gwHE8mk3eQxn"
   },
   "outputs": [],
   "source": [
    "# setting similarity option, 'cosine' berarti metric kesamaan menggunakan cosine similarity\n",
    "# 'user_based' True berarti algoritma rekomendasi bekerja berdasarkan kesamaan user\n",
    "sim_options = {'name': 'cosine', 'user_based': False }\n",
    "\n",
    "# instansiasi objek model rekomendasi KNNBasic\n",
    "algo = KNNBasic(k = 40, sim_options=sim_options)"
   ]
  },
  {
   "cell_type": "markdown",
   "metadata": {
    "colab_type": "text",
    "id": "ztBq57Fmtb9u"
   },
   "source": [
    "# D. Training model prediksi rating anime"
   ]
  },
  {
   "cell_type": "markdown",
   "metadata": {},
   "source": [
    "Mentransformasi input dengan format dataframe pandas kedalam format Dataset yang merupakan standar input model pada library surprise."
   ]
  },
  {
   "cell_type": "code",
   "execution_count": 50,
   "metadata": {
    "colab": {},
    "colab_type": "code",
    "id": "zMQqqcoGllAj"
   },
   "outputs": [],
   "source": [
    "#menyiapkan objek Reader\n",
    "reader = Reader(rating_scale=(1, 10))\n",
    "\n",
    "# transform format dataframe kedalam format Dataset\n",
    "# kolom pada dataframe secara berurutan harus merepresentasikan user id, item id, dan rating\n",
    "data = Dataset.load_from_df(anime_ratings, reader)"
   ]
  },
  {
   "cell_type": "markdown",
   "metadata": {},
   "source": [
    "Kemudian, membagi data kedalam trainset dan testset dengan perbandingan 80:20."
   ]
  },
  {
   "cell_type": "code",
   "execution_count": 51,
   "metadata": {
    "colab": {},
    "colab_type": "code",
    "id": "CccLG-NuszOm"
   },
   "outputs": [],
   "source": [
    "trainset, testset = train_test_split(data, test_size=.2)"
   ]
  },
  {
   "cell_type": "markdown",
   "metadata": {},
   "source": [
    "Latih model menggunakan trainset."
   ]
  },
  {
   "cell_type": "code",
   "execution_count": 52,
   "metadata": {
    "colab": {
     "base_uri": "https://localhost:8080/",
     "height": 71
    },
    "colab_type": "code",
    "id": "YyuXY2XxW1XG",
    "outputId": "5d501628-c188-4530-c553-8be0aa6adc39"
   },
   "outputs": [
    {
     "name": "stdout",
     "output_type": "stream",
     "text": [
      "Computing the cosine similarity matrix...\n",
      "Done computing similarity matrix.\n"
     ]
    },
    {
     "data": {
      "text/plain": [
       "<surprise.prediction_algorithms.knns.KNNBasic at 0x7fea0f04a1d0>"
      ]
     },
     "execution_count": 52,
     "metadata": {},
     "output_type": "execute_result"
    }
   ],
   "source": [
    "algo.fit(trainset)"
   ]
  },
  {
   "cell_type": "markdown",
   "metadata": {
    "colab_type": "text",
    "id": "xWkELR1yu2lw"
   },
   "source": [
    "# F. Evaluasi"
   ]
  },
  {
   "cell_type": "markdown",
   "metadata": {},
   "source": [
    "Evaluasi model prediksi rating menggunakan testset."
   ]
  },
  {
   "cell_type": "code",
   "execution_count": 53,
   "metadata": {
    "colab": {
     "base_uri": "https://localhost:8080/",
     "height": 53
    },
    "colab_type": "code",
    "id": "hz4I_cTau_J-",
    "outputId": "f1d21d7c-6176-4b60-d148-4ef57041cd13"
   },
   "outputs": [
    {
     "name": "stdout",
     "output_type": "stream",
     "text": [
      "MAE:  1.0260\n"
     ]
    },
    {
     "data": {
      "text/plain": [
       "1.0259663041133438"
      ]
     },
     "execution_count": 53,
     "metadata": {},
     "output_type": "execute_result"
    }
   ],
   "source": [
    "# Memprediksi rating pada testset\n",
    "predictions = algo.test(testset)\n",
    "\n",
    "# Hitung Mean absolute error(MAE) dari prediksi terhadap rating testset sebenarnya\n",
    "accuracy.mae(predictions)"
   ]
  },
  {
   "cell_type": "markdown",
   "metadata": {},
   "source": [
    "Menggunakan model untuk memprediksi rating anime Fullmetal Alchemist: Brotherhood oleh user 1."
   ]
  },
  {
   "cell_type": "code",
   "execution_count": 54,
   "metadata": {
    "colab": {
     "base_uri": "https://localhost:8080/",
     "height": 55
    },
    "colab_type": "code",
    "id": "yY50qWCevRLa",
    "outputId": "72526c22-3e95-4620-8852-2c45309f8daf"
   },
   "outputs": [
    {
     "data": {
      "text/plain": [
       "Prediction(uid=1, iid=82, r_ui=None, est=8.429613351403646, details={'actual_k': 7, 'was_impossible': False})"
      ]
     },
     "execution_count": 54,
     "metadata": {},
     "output_type": "execute_result"
    }
   ],
   "source": [
    "algo.predict(1, 82)"
   ]
  },
  {
   "cell_type": "markdown",
   "metadata": {
    "colab_type": "text",
    "id": "E5hraRMsuxrr"
   },
   "source": [
    "# G. Membuat recommender system"
   ]
  },
  {
   "cell_type": "markdown",
   "metadata": {},
   "source": [
    "Menyiapkan list semua id anime. "
   ]
  },
  {
   "cell_type": "code",
   "execution_count": 55,
   "metadata": {
    "colab": {},
    "colab_type": "code",
    "id": "iHAFFfgG-VKu"
   },
   "outputs": [],
   "source": [
    "# Menyimpan list id anime pada anime_info dalam variabel anime_list\n",
    "anime_id_list = anime_info['anime_ids'].values"
   ]
  },
  {
   "cell_type": "markdown",
   "metadata": {},
   "source": [
    "Membuat fungsi recommender system."
   ]
  },
  {
   "cell_type": "code",
   "execution_count": 56,
   "metadata": {
    "colab": {},
    "colab_type": "code",
    "id": "LUgfC12dMDN1"
   },
   "outputs": [],
   "source": [
    "def top_recommendation(user_id, number_of_recommendations):\n",
    "\n",
    "  # Membuat list anime yang telah ditonton/diberi rating user.\n",
    "  user_anime_id_list = np.unique(anime_ratings[anime_ratings['User_ID']==user_id]['Anime_ID'].values)\n",
    "    \n",
    "  # Membuat variabel untuk tempat menyimpan hasil prediksi rating anime yang belum ditonton user\n",
    "  anime_rating_predictions = []\n",
    "\n",
    "  # Menghitung prediksi rating\n",
    "  for anime_id in anime_id_list:\n",
    "    if anime_id not in user_anime_id_list:\n",
    "      anime_rating_predictions.append({'anime_id' : anime_id, 'rating' : algo.predict(user_id, anime_id).est})\n",
    "\n",
    "  # Mencetak hasil rekomendasi \n",
    "  i = 1  \n",
    "  print('rank\\ttop recommendation\\n')\n",
    "  for anime_rating in sorted(anime_rating_predictions, key = lambda k: k['rating'],reverse=True)[:number_of_recommendations]:\n",
    "    print('{}\\t{}'.format(i, anime_info['name'].loc[anime_info['anime_ids']==anime_rating['anime_id']].iloc[0]), '\\n')\n",
    "    i+= 1 "
   ]
  },
  {
   "cell_type": "markdown",
   "metadata": {},
   "source": [
    "Mencoba *recommender system*."
   ]
  },
  {
   "cell_type": "code",
   "execution_count": 59,
   "metadata": {
    "colab": {
     "base_uri": "https://localhost:8080/",
     "height": 773
    },
    "colab_type": "code",
    "id": "RyU0oe6FM6bv",
    "outputId": "d4dac6b0-c0c2-445d-b549-0fed2c30d40f"
   },
   "outputs": [
    {
     "name": "stdout",
     "output_type": "stream",
     "text": [
      "rank\ttop recommendation\n",
      "\n",
      "1\tHotori: Tada Saiwai wo Koinegau \n",
      "\n",
      "2\tCosmo Warrior Zero \n",
      "\n",
      "3\tAlexander Senki \n",
      "\n",
      "4\tGintama°: Aizome Kaori-hen \n",
      "\n",
      "5\tWaga Seishun no Arcadia: Mugen Kidou SSX \n",
      "\n",
      "6\tLegendz: Yomigaeru Ryuuou Densetsu \n",
      "\n",
      "7\tTiger Mask Nisei \n",
      "\n",
      "8\tOseam \n",
      "\n",
      "9\tChibi Maruko-chan Movie \n",
      "\n",
      "10\tThe Rose and Women of Versailles \n",
      "\n",
      "11\tMazinkaiser: Shitou! Ankoku Dai Shogun \n",
      "\n",
      "12\tMadou King Granzort \n",
      "\n",
      "13\tSekai Meisaku Douwa: Hakuchou no Mizuumi \n",
      "\n",
      "14\tDanball Senki W \n",
      "\n",
      "15\tGaiking: Legend of Daiku-Maryu \n",
      "\n",
      "16\tCode Geass: Boukoku no Akito 3 - Kagayaku Mono Ten yori Otsu Picture Drama \n",
      "\n",
      "17\tGakuen Senki Muryou \n",
      "\n",
      "18\tYAT Anshin! Uchuu Ryokou \n",
      "\n",
      "19\tHiatari Ryoukou! \n",
      "\n",
      "20\tHi no Tori: Uchuu-hen \n",
      "\n"
     ]
    }
   ],
   "source": [
    "# melihat top 20 rekomendasi anime untuk user 1\n",
    "top_recommendation(1, 20)"
   ]
  },
  {
   "cell_type": "markdown",
   "metadata": {},
   "source": [
    "Selengkapnya dokumentasi library surprise dapat dilihat pada tautan berikut <br>\n",
    "https://surprise.readthedocs.io/en/stable/"
   ]
  },
  {
   "cell_type": "markdown",
   "metadata": {},
   "source": [
    "<br>\n",
    "<center><font size=\"18\"> Terima Kasih <font><center>\n",
    "<br"
   ]
  },
  {
   "cell_type": "code",
   "execution_count": null,
   "metadata": {},
   "outputs": [],
   "source": []
  }
 ],
 "metadata": {
  "colab": {
   "collapsed_sections": [],
   "name": "Copy of Hands On Collaborative Filtering Recommender System.ipynb",
   "provenance": [],
   "toc_visible": true
  },
  "kernelspec": {
   "display_name": "Python 3",
   "language": "python",
   "name": "python3"
  },
  "language_info": {
   "codemirror_mode": {
    "name": "ipython",
    "version": 3
   },
   "file_extension": ".py",
   "mimetype": "text/x-python",
   "name": "python",
   "nbconvert_exporter": "python",
   "pygments_lexer": "ipython3",
   "version": "3.7.3"
  }
 },
 "nbformat": 4,
 "nbformat_minor": 1
}
